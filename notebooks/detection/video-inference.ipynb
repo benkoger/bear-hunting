{
 "cells": [
  {
   "cell_type": "code",
   "execution_count": 1,
   "metadata": {},
   "outputs": [
    {
     "name": "stderr",
     "output_type": "stream",
     "text": [
      "/home/koger/environments/orthocounting/lib/python3.10/site-packages/tqdm/auto.py:21: TqdmWarning: IProgress not found. Please update jupyter and ipywidgets. See https://ipywidgets.readthedocs.io/en/stable/user_install.html\n",
      "  from .autonotebook import tqdm as notebook_tqdm\n",
      "/home/koger/environments/orthocounting/lib/python3.10/site-packages/albumentations/__init__.py:28: UserWarning: A new version of Albumentations is available: '2.0.6' (you have '2.0.5'). Upgrade using: pip install -U albumentations. To disable automatic update checks, set the environment variable NO_ALBUMENTATIONS_UPDATE to 1.\n",
      "  check_for_updates()\n"
     ]
    }
   ],
   "source": [
    "import glob\n",
    "import os\n",
    "import json\n",
    "import time\n",
    "\n",
    "import cv2\n",
    "from dotenv import load_dotenv\n",
    "\n",
    "import matplotlib.pyplot as plt\n",
    "import numpy as np\n",
    "import torchvision\n",
    "import torch\n",
    "from vidgear.gears import WriteGear\n",
    "\n",
    "from koger_detection.obj_det.mydatasets import VideoDataset\n",
    "from koger_detection.obj_det.predictors import Predictor"
   ]
  },
  {
   "cell_type": "code",
   "execution_count": 2,
   "metadata": {},
   "outputs": [
    {
     "name": "stdout",
     "output_type": "stream",
     "text": [
      "video exists\n"
     ]
    }
   ],
   "source": [
    "from torch import true_divide\n",
    "\n",
    "\n",
    "video_name = \"bear_big2a_2023_08_16_koger_01_01_DJI_20230816175814_0573_D\"\n",
    "video_name = \"bear_big-trail_2023_08_16_koger_01_02_DJI_20230816200046_0588_D\"\n",
    "video_folder = \"/mnt/e/porcupine-island-2023/drone-flights\"\n",
    "video_file = os.path.join(video_folder, video_name + \".MP4\")\n",
    "\n",
    "if os.path.exists(video_file):\n",
    "    print(f\"video exists\")\n",
    "\n",
    "out_folder = \"/mnt/c/Users/benko/Documents/local_projects/bears/videos\"\n",
    "os.makedirs(out_folder, exist_ok=True)\n",
    "\n",
    "out_name = \"test.mp4\"\n",
    "\n",
    "\n",
    "create_video = False"
   ]
  },
  {
   "cell_type": "code",
   "execution_count": 3,
   "metadata": {},
   "outputs": [
    {
     "name": "stdout",
     "output_type": "stream",
     "text": [
      "1\n",
      "['/mnt/e/porcupine-island-2023/drone-flights/bear_big-trail_2023_08_16_koger_01_02_DJI_20230816200046_0588_D.MP4']\n"
     ]
    }
   ],
   "source": [
    "video_names = sorted(glob.glob(video_file))\n",
    "print(len(video_names))\n",
    "print(video_names)"
   ]
  },
  {
   "cell_type": "code",
   "execution_count": 4,
   "metadata": {},
   "outputs": [],
   "source": [
    "\n",
    "load_dotenv()\n",
    "\n",
    "root = os.environ.get(\"ROOT\")\n",
    "\n",
    "run_folder = f\"/home/koger/Projects/bear-hunting/models/bear-hunting/runs/main\"\n",
    "run_name = \"05-14-2025-15-45-22\"\n",
    "cfg_file = os.path.join(run_folder, run_name, \"cfg.json\") \n",
    "\n",
    "with open(cfg_file, \"r\") as f:\n",
    "    cfg = json.load(f)\n",
    "    \n",
    "cfg_m = cfg['model']\n",
    "cfg_m['model_weights_pth'] = os.path.join(run_folder, run_name, \"final_model.pth\")\n",
    "cfg_m['box_detections_per_img'] = 512\n",
    "cfg_m['rpn_pre_nms_top_n_test'] = 4000\n",
    "cfg_m['rpn_post_nms_top_n_test'] = 2000"
   ]
  },
  {
   "cell_type": "code",
   "execution_count": 5,
   "metadata": {},
   "outputs": [
    {
     "name": "stdout",
     "output_type": "stream",
     "text": [
      "Warning: model_cfg['fixed_size'] is being ignored.\n"
     ]
    }
   ],
   "source": [
    "\n",
    "predictor = Predictor(cfg_m)"
   ]
  },
  {
   "cell_type": "code",
   "execution_count": 6,
   "metadata": {},
   "outputs": [
    {
     "name": "stdout",
     "output_type": "stream",
     "text": [
      "Frame number 0 processed.\n",
      "Frame number 1000 processed.\n",
      "Frame number 2000 processed.\n",
      "Frame number 3000 processed.\n",
      "Frame number 4000 processed.\n",
      "Frame number 5000 processed.\n",
      "Frame number 6000 processed.\n",
      "Empty frame. Ending stream.\n",
      "FileVideoStream stopped.\n",
      "1170.8008892536163 fps: 5.816531284274445 6810 frames processed.\n"
     ]
    }
   ],
   "source": [
    "ds = VideoDataset(video_file)\n",
    "data_loader = torch.utils.data.DataLoader(ds, batch_size=1, num_workers=0)\n",
    "\n",
    "if create_video:\n",
    "    output_params = {\"-input_framerate\": 30,\n",
    "                    \"-pix_fmt\": \"yuv420p\"}\n",
    "    writer = WriteGear(output=os.path.join(out_folder, out_name),\n",
    "                    **output_params) \n",
    "\n",
    "\n",
    "all_boxes = []\n",
    "all_scores = []\n",
    "all_labels = []\n",
    "\n",
    "t0 = time.time()\n",
    "first_frame = 0\n",
    "max_im = None # 10000\n",
    "for ind, f in enumerate(data_loader):\n",
    "    if ind < first_frame:\n",
    "        continue\n",
    "    if max_im is not None:\n",
    "        if ind >= max_im:\n",
    "            break\n",
    "    if ind % 1000 == 0:\n",
    "        print(f\"Frame number {ind} processed.\")\n",
    "    res = predictor(f[0])\n",
    "    boxes = res['boxes'].to('cpu').numpy().astype(np.uint32)\n",
    "    scores = res['scores'].to('cpu').numpy()\n",
    "    labels = res['labels'].to('cpu').numpy()\n",
    "\n",
    "    image_name = f\"{video_name}-frame-{ind}\"\n",
    "\n",
    "    all_boxes.append(boxes)\n",
    "    all_scores.append(scores)\n",
    "    all_labels.append(labels)\n",
    "\n",
    "    if create_video:\n",
    "        frame = f[0].numpy().copy() # Copy makes circle work for unclear reasons\n",
    "        \n",
    "        for box, score, label in zip(boxes, scores, labels):\n",
    "            if score < .9:\n",
    "                continue\n",
    "            x = np.mean([box[0], box[2]])\n",
    "            y = np.mean([box[1], box[3]])\n",
    "            if label == 1:\n",
    "                cv2.circle(frame, [int(x), int(y)], 4, (4,217,255), -1)\n",
    "            else:\n",
    "                cv2.circle(frame, [int(x), int(y)], 8, (255, 0, 0), -1)\n",
    "        if frame is not None:\n",
    "            writer.write(frame, rgb_mode=True)\n",
    "        else:\n",
    "            print(\"skipping.\")\n",
    "ds.stop()   \n",
    "if create_video: \n",
    "    writer.close()\n",
    "total_time = time.time() - t0\n",
    "print(total_time, f\"fps: {ind / total_time}\", f\"{ind} frames processed.\")\n",
    "\n",
    "np.savez_compressed(os.path.join(out_folder, f\"{video_name}-boxes.npz\"), *all_boxes)\n",
    "np.savez_compressed(os.path.join(out_folder, f\"{video_name}-scores.npz\"), *all_scores)\n",
    "np.savez_compressed(os.path.join(out_folder, f\"{video_name}-labels.npz\"), *all_labels)"
   ]
  },
  {
   "cell_type": "code",
   "execution_count": 7,
   "metadata": {},
   "outputs": [],
   "source": [
    "from yolox.tracker.byte_tracker import BYTETracker"
   ]
  },
  {
   "cell_type": "code",
   "execution_count": 8,
   "metadata": {},
   "outputs": [],
   "source": [
    "class Arguments:\n",
    "    def __init__(self):\n",
    "        self.track_thresh = 0.85\n",
    "        self.track_buffer = 2\n",
    "        self.match_thresh = 0.8\n",
    "        self.min_box_area = 10\n",
    "        self.frame_rate = 30\n",
    "        self.mot20 = False\n",
    "        self.track_id = True\n",
    "        self.nms = 0.65\n",
    "\n",
    "args = Arguments()"
   ]
  },
  {
   "cell_type": "code",
   "execution_count": 9,
   "metadata": {},
   "outputs": [
    {
     "data": {
      "text/plain": [
       "0.85"
      ]
     },
     "execution_count": 9,
     "metadata": {},
     "output_type": "execute_result"
    }
   ],
   "source": [
    "args.track_thresh"
   ]
  },
  {
   "cell_type": "code",
   "execution_count": null,
   "metadata": {},
   "outputs": [],
   "source": []
  },
  {
   "cell_type": "code",
   "execution_count": 10,
   "metadata": {},
   "outputs": [],
   "source": [
    "tracker = BYTETracker(args)\n",
    "\n",
    "boxes = []\n",
    "z_boxes = np.load(os.path.join(out_folder, f\"{video_name}-boxes.npz\"))\n",
    "z_scores = np.load(os.path.join(out_folder, f\"{video_name}-scores.npz\"))\n",
    "z_labels = np.load(os.path.join(out_folder, f\"{video_name}-labels.npz\"))\n",
    "\n",
    "tracks = {}\n",
    "\n",
    "frame_num = 0\n",
    "for boxes_key, scores_key, labels_key in zip(z_boxes, z_scores, z_labels):\n",
    "    dets = np.concatenate([z_boxes[boxes_key], \n",
    "                           z_scores[scores_key][:, np.newaxis], \n",
    "                           z_scores[scores_key][:, np.newaxis],\n",
    "                           z_labels[labels_key][:, np.newaxis]\n",
    "                           ], \n",
    "                           axis=1)\n",
    "    online_targets = tracker.update(torch.from_numpy(dets), [2160, 3840], [2160, 3840])\n",
    "\n",
    "    for strack in online_targets:\n",
    "        if strack.is_activated:\n",
    "            track_id = strack.track_id\n",
    "            if track_id not in tracks:\n",
    "                tracks[track_id] = {}\n",
    "            tracks[track_id][strack.frame_id] = strack.tlwh\n"
   ]
  },
  {
   "cell_type": "code",
   "execution_count": 11,
   "metadata": {},
   "outputs": [],
   "source": [
    "import pickle"
   ]
  },
  {
   "cell_type": "code",
   "execution_count": 12,
   "metadata": {},
   "outputs": [],
   "source": [
    "with open(os.path.join(out_folder, f'{video_name}-tracks.pkl'), 'wb') as outp:\n",
    "    pickle.dump(tracks, outp, pickle.HIGHEST_PROTOCOL)"
   ]
  },
  {
   "cell_type": "code",
   "execution_count": null,
   "metadata": {},
   "outputs": [
    {
     "name": "stdout",
     "output_type": "stream",
     "text": [
      "dict_keys([17039, 17040, 17041, 17042, 17043, 17044, 17045, 17046, 17047, 17048, 17049, 17050, 17051, 17052, 17053, 17054, 17055, 17056, 17057, 17058, 17059, 17060, 17061, 17062, 17063, 17064, 17065, 17066, 17067, 17068, 17069, 17070, 17071, 17072, 17073, 17074, 17075, 17076, 17077, 17078, 17079, 17080, 17081, 17082, 17083, 17084, 17085, 17086, 17087, 17088, 17089, 17090, 17091, 17092, 17093, 17094, 17095, 17096, 17097, 17098, 17099, 17100, 17101, 17102, 17103, 17104, 17105, 17106, 17107, 17108, 17109, 17110, 17111, 17112, 17113, 17114, 17115, 17116, 17117, 17118, 17119, 17120, 17121, 17122, 17123, 17124, 17125, 17126, 17127, 17128, 17129, 17130, 17131, 17132, 17133, 17134, 17135, 17136, 17137, 17138, 17139, 17140, 17141, 17142, 17143, 17144, 17145, 17146, 17147, 17148, 17149, 17150, 17151, 17152, 17154, 17156, 17157, 17158, 17160, 17162, 17164, 17166, 17167, 17168, 17169, 17170, 17175, 17177, 17179, 17180, 17181, 17182, 17183, 17184, 17185, 17186, 17188, 17189, 17190, 17191, 17192, 17196, 17197, 17198, 17199, 17203, 17205, 17206, 17209, 17210, 17211, 17213, 17214, 17216, 17217, 17222, 17223, 17224, 17225, 17226, 17227, 17229, 17230, 17233, 17234, 17237, 17243, 17244, 17245, 17246, 17247, 17248, 17249, 17250, 17251, 17252, 17254, 17255, 17256, 17257, 17258, 17259, 17260, 17262, 17263, 17265, 17266, 17267, 17269, 17271, 17275, 17276, 17277, 17278, 17280, 17281, 17282, 17283, 17284, 17285, 17286, 17287, 17289, 17290, 17291, 17292, 17293, 17295, 17296, 17297, 17298, 17299, 17300, 17301, 17303, 17304, 17305, 17306, 17307, 17308, 17310, 17311, 17316, 17318, 17319, 17320, 17322, 17323, 17324, 17325, 17327, 17328, 17329, 17330, 17331, 17332, 17333, 17337, 17339, 17340, 17343, 17344, 17345, 17346, 17348, 17350, 17351, 17352, 17353, 17355, 17356, 17358, 17360, 17361, 17363, 17367, 17370, 17371, 17372, 17373, 17374, 17375, 17376, 17377, 17378, 17380, 17381, 17382, 17383, 17384, 17385, 17386, 17387, 17389, 17390, 17391, 17394, 17395, 17397, 17399, 17400, 17401, 17403, 17404, 17405, 17407, 17408, 17410, 17411, 17412, 17413, 17414, 17415, 17416, 17418, 17419, 17420, 17421, 17422, 17423, 17425, 17426, 17430, 17431, 17433, 17434, 17435, 17436, 17437, 17443, 17444, 17448, 17450, 17451, 17453, 17455, 17457, 17458, 17460, 17461, 17462, 17464, 17466, 17467, 17468, 17469, 17471, 17472, 17473, 17476, 17477, 17478, 17479, 17480, 17481, 17482, 17483, 17485, 17486, 17487, 17489, 17490, 17492, 17493, 17495, 17497, 17498, 17499, 17501, 17502, 17504, 17505, 17507, 17509, 17510, 17511, 17512, 17513, 17515, 17517, 17518, 17519, 17520, 17521, 17522, 17525, 17527, 17528, 17529, 17530, 17534, 17536, 17538, 17539, 17540, 17542, 17543, 17544, 17545, 17547, 17548, 17554, 17555, 17556, 17557, 17559, 17560, 17561, 17564, 17565, 17567, 17569, 17570, 17574, 17575, 17576, 17577, 17579, 17581, 17582, 17583, 17584, 17585, 17586, 17587, 17588, 17590, 17592, 17593, 17594, 17596, 17597, 17599, 17600, 17602, 17603, 17604, 17605, 17606, 17609, 17610, 17611, 17614, 17615, 17616, 17617, 17618, 17619, 17620, 17622, 17625, 17627, 17628, 17630, 17631, 17633, 17634, 17636, 17637, 17638, 17639, 17646, 17648, 17649, 17650, 17658, 17660, 17662, 17663, 17665, 17666, 17668, 17671, 17672, 17673, 17674, 17675, 17676, 17679, 17682, 17683, 17684, 17685, 17689, 17690, 17691, 17692, 17694, 17696, 17697, 17698, 17700, 17701, 17703, 17706, 17708, 17710, 17715, 17716, 17718, 17720, 17724, 17725, 17726, 17727, 17731, 17732, 17734, 17735, 17736, 17737, 17741, 17742, 17743, 17745, 17747, 17748, 17751, 17752, 17755, 17756, 17757, 17758, 17761, 17762, 17763, 17764, 17765, 17768, 17769, 17770, 17773, 17776, 17777, 17778, 17779, 17781, 17783, 17784, 17786, 17787, 17788, 17793, 17794, 17795, 17796, 17798, 17801, 17802, 17803, 17804, 17805, 17808, 17809, 17812, 17813, 17814, 17817, 17819, 17820, 17821, 17823, 17825, 17826, 17827, 17828, 17831, 17833, 17834, 17835, 17836, 17838, 17839, 17840, 17843, 17844, 17845, 17846, 17847, 17848, 17850, 17852, 17853, 17854, 17857, 17859, 17860, 17861, 17863, 17864, 17865, 17866, 17867, 17869, 17870, 17871, 17872, 17873, 17874, 17875, 17878, 17879, 17883, 17884, 17885, 17886, 17890, 17891, 17892, 17894, 17895, 17896, 17898, 17899, 17901, 17904, 17905, 17906, 17908, 17909, 17911, 17914, 17916, 17917, 17919, 17920, 17922, 17923, 17924, 17928, 17929, 17931, 17934, 17936, 17937, 17938, 17942, 17945, 17946, 17947, 17950, 17951, 17954, 17955, 17957, 17958, 17959, 17960, 17962, 17964, 17965, 17966, 17967, 17968, 17969, 17970, 17972, 17974, 17975, 17977, 17978, 17979, 17981, 17982, 17983, 17985, 17986, 17987, 17988, 17993, 17996, 17997, 17998, 17999, 18001, 18003, 18004, 18005, 18009, 18011, 18013, 18014, 18015, 18016, 18020, 18022, 18026, 18027, 18030, 18031, 18032, 18033, 18035, 18036, 18038, 18040, 18041, 18043, 18045, 18046, 18047, 18048, 18049, 18050, 18052, 18056, 18058, 18059, 18061, 18062, 18063, 18065, 18066, 18068, 18069, 18070, 18072, 18073, 18074, 18075, 18076, 18077, 18078, 18080, 18081, 18083, 18084, 18085, 18086, 18092, 18093, 18095, 18096, 18097, 18099, 18101, 18102, 18103, 18104, 18105, 18107, 18108, 18109, 18110, 18111, 18114, 18115, 18118, 18120, 18121, 18122, 18123, 18124, 18125, 18126, 18128, 18129, 18130, 18131, 18133, 18134, 18137, 18139, 18140, 18141, 18143, 18144, 18145, 18146, 18147, 18148, 18150, 18151, 18152, 18153, 18155, 18156, 18157, 18159, 18161, 18162, 18164, 18165, 18166, 18168, 18169, 18170, 18171, 18172, 18174, 18177, 18178, 18179, 18180, 18181, 18182, 18183, 18185, 18190, 18191, 18194, 18195, 18197, 18198, 18201, 18202, 18203, 18206, 18208, 18209, 18210, 18211, 18214, 18215, 18217, 18218, 18219, 18222, 18223, 18224, 18226, 18227, 18229, 18231, 18233, 18235, 18236, 18237, 18238, 18239, 18240, 18241, 18243, 18246, 18247, 18252, 18253, 18254, 18255, 18257, 18258, 18260, 18261, 18262, 18263, 18267, 18268, 18269, 18272, 18273, 18274, 18275, 18276, 18277, 18279, 18280, 18281, 18282, 18283, 18284, 18285, 18286, 18287, 18288, 18289, 18291, 18292, 18293, 18294, 18296, 18298, 18299, 18301, 18303, 18306, 18309, 18310, 18316, 18320, 18321, 18323, 18324, 18325, 18326, 18328, 18330, 18331, 18338, 18339, 18340, 18342, 18344, 18345, 18349, 18352, 18354, 18357, 18358, 18359, 18360, 18361, 18362, 18364, 18365, 18367, 18369, 18370, 18371, 18373, 18374, 18376, 18379, 18380, 18381, 18386, 18388, 18389, 18390, 18394, 18395, 18396, 18398, 18401, 18402, 18404, 18407, 18408, 18409, 18410, 18411, 18412, 18413, 18415, 18417, 18418, 18419, 18420, 18422, 18423, 18426, 18429, 18430, 18431, 18433, 18434, 18437, 18440, 18441, 18444, 18447, 18448, 18449, 18450, 18453, 18454, 18456, 18457, 18458, 18459, 18461, 18464, 18465, 18466, 18467, 18468, 18469, 18470, 18471, 18477, 18478, 18480, 18482, 18485, 18486, 18488, 18489, 18490, 18491, 18492, 18494, 18496, 18497, 18498, 18500, 18501, 18502, 18503, 18508, 18509, 18510, 18511, 18513, 18515, 18520, 18521, 18522, 18524, 18527, 18528, 18530, 18532, 18538, 18540, 18543, 18545, 18546, 18548, 18549, 18550, 18553, 18554, 18555, 18556, 18559, 18562, 18563, 18564, 18565, 18566, 18569, 18570, 18571, 18572, 18573, 18574, 18575, 18576, 18578, 18579, 18581, 18583, 18584, 18585, 18586, 18591, 18592, 18593, 18595, 18596, 18597, 18598, 18601, 18602, 18603, 18606, 18608, 18609, 18611, 18613, 18615, 18617, 18621, 18622, 18624, 18625, 18626, 18627, 18628, 18629, 18630, 18631, 18632, 18633, 18634, 18635, 18637, 18638, 18639, 18641, 18645, 18646, 18647, 18649, 18652, 18653, 18654, 18655, 18656, 18657, 18660, 18662, 18663, 18665, 18666, 18670, 18672, 18673, 18674, 18676, 18677, 18678, 18679, 18681, 18684, 18685, 18686, 18687, 18689, 18690, 18691, 18693, 18696, 18697, 18698, 18699, 18700, 18701, 18702, 18703, 18704, 18705, 18706, 18709, 18710, 18713, 18714, 18716, 18718, 18721, 18722, 18723, 18724, 18725, 18727, 18730, 18731, 18732, 18735, 18737, 18738, 18739, 18741, 18744, 18746, 18748, 18750, 18751, 18753, 18755, 18757, 18758, 18759, 18760, 18761, 18763, 18764, 18766, 18767, 18768, 18771, 18773, 18774, 18776, 18778, 18779, 18780, 18782, 18783, 18784, 18785, 18787, 18788, 18791, 18792, 18793, 18794, 18797, 18798, 18800, 18801, 18802, 18804, 18805, 18806, 18807, 18808, 18809, 18811, 18813, 18814, 18815, 18816, 18819, 18820, 18825, 18828, 18830, 18832, 18835, 18836, 18837, 18839, 18840, 18841, 18842, 18843, 18844, 18846, 18847, 18850, 18851, 18852, 18855, 18856, 18857, 18858, 18859, 18860, 18862, 18863, 18867, 18869, 18871, 18873, 18875, 18877, 18879, 18881, 18884, 18885, 18886, 18887, 18888, 18890, 18892, 18895, 18898, 18899, 18900, 18901, 18902, 18905, 18906, 18907, 18908, 18909, 18910, 18911, 18912, 18914, 18915, 18917, 18918, 18919, 18923, 18925, 18927, 18928, 18929, 18930, 18931, 18933, 18936, 18937, 18939, 18940, 18941, 18942, 18944, 18945, 18947, 18948, 18953, 18954, 18955, 18958, 18959, 18963, 18965, 18966, 18967, 18969, 18970, 18971, 18973, 18974, 18975, 18976, 18985, 18990, 18991, 18992, 18994, 18995, 18996, 18998, 18999, 19003, 19004, 19006, 19009, 19012, 19014, 19015, 19017, 19018, 19019, 19022, 19023, 19024, 19026, 19028, 19029, 19031, 19035, 19036, 19037, 19038, 19039, 19040, 19042, 19043, 19045, 19046, 19049, 19050, 19052, 19054, 19056, 19059, 19061, 19062, 19067, 19070, 19071, 19073, 19075, 19076, 19077, 19079, 19081, 19084, 19087, 19092, 19093, 19095, 19096, 19098, 19099, 19103, 19104, 19106, 19108, 19109, 19111, 19114, 19115, 19116, 19117, 19118, 19120, 19121, 19122, 19123, 19126, 19128, 19129, 19130, 19131, 19133, 19134, 19135, 19137, 19139, 19142, 19143, 19147, 19148, 19154, 19156, 19157, 19160, 19162, 19164, 19166, 19167, 19168, 19169, 19170, 19171, 19173, 19175, 19177, 19178, 19182, 19184, 19186, 19189, 19190, 19191, 19192, 19193, 19196, 19197, 19198, 19199, 19200, 19204, 19209, 19210, 19212, 19213, 19214, 19215, 19217, 19218, 19219, 19225, 19226, 19227, 19231, 19233, 19234, 19235, 19236, 19238, 19239, 19241, 19244, 19246, 19247, 19248, 19249, 19250, 19254, 19260, 19261, 19263, 19266, 19268, 19269, 19271, 19273, 19276, 19277, 19282, 19284, 19289, 19290, 19292, 19293, 19294, 19296, 19297, 19298, 19299, 19301, 19304, 19305, 19306, 19307, 19308, 19309, 19314, 19315, 19316, 19319, 19321, 19322, 19323, 19326, 19329, 19332, 19334, 19336, 19340, 19343, 19345, 19346, 19347, 19348, 19350, 19351, 19353, 19354, 19356, 19357, 19359, 19361, 19363, 19365, 19366, 19369, 19380, 19387, 19388, 19389, 19392, 19394, 19395, 19396, 19397, 19398, 19399, 19401, 19402, 19404, 19408, 19409, 19413, 19414, 19418, 19419, 19420, 19422, 19423, 19426, 19427, 19428, 19429, 19430, 19438, 19440, 19442, 19443, 19448, 19449, 19450, 19455, 19458, 19459, 19460, 19462, 19465, 19466, 19468, 19470, 19471, 19472, 19474, 19475, 19478, 19479, 19481, 19483, 19484, 19486, 19487, 19488, 19492, 19494, 19495, 19496, 19498, 19499, 19500, 19501, 19503, 19507, 19509, 19510, 19512, 19514, 19515, 19516, 19517, 19518, 19519, 19520, 19521, 19522, 19525, 19526, 19528, 19531, 19534, 19535, 19537, 19538, 19540, 19541, 19542, 19546, 19550, 19552, 19555, 19556, 19557, 19558, 19562, 19563, 19566, 19568, 19569, 19574, 19578, 19580, 19581, 19583, 19584, 19587, 19588, 19589, 19590, 19592, 19593, 19595, 19600, 19601, 19602, 19603, 19606, 19608, 19610, 19613, 19614, 19615, 19617, 19618, 19620, 19622, 19623, 19626, 19627, 19628, 19630, 19634, 19636, 19637, 19638, 19640, 19641, 19642, 19644, 19645, 19646, 19648, 19652, 19654, 19656, 19657, 19658, 19660, 19663, 19664, 19665, 19669, 19673, 19675, 19676, 19677, 19680, 19681, 19684, 19686, 19687, 19688, 19689, 19691, 19692, 19694, 19700, 19702, 19703, 19704, 19705, 19706, 19707, 19708, 19712, 19715, 19716, 19717, 19720, 19723, 19724, 19726, 19727, 19728, 19729, 19731, 19734, 19735, 19737, 19738, 19739, 19743, 19744, 19745, 19746, 19747, 19753, 19754, 19755, 19758, 19759, 19760, 19763, 19764, 19766, 19768, 19769, 19770, 19772, 19773, 19774, 19776, 19778, 19779, 19781, 19782, 19783, 19786, 19788, 19789, 19790, 19792, 19793, 19794, 19795, 19798, 19799, 19801, 19802, 19803, 19804, 19805, 19806, 19810, 19815, 19816, 19817, 19818, 19819, 19825, 19830, 19832, 19835, 19836, 19837, 19838, 19839, 19840, 19841, 19842, 19843, 19846, 19847, 19848, 19849, 19851, 19853, 19854, 19855, 19857, 19858, 19860, 19862, 19863, 19864, 19865, 19866, 19867, 19868, 19869, 19870, 19871, 19872, 19873, 19874, 19875, 19876, 19877, 19879, 19880, 19881, 19883, 19884, 19885, 19886, 19887, 19888, 19889, 19892, 19893, 19895, 19897, 19898, 19901, 19904, 19906, 19908, 19909, 19910, 19911, 19912, 19913, 19914, 19915, 19916, 19917, 19919, 19920, 19921, 19922, 19923, 19924, 19925, 19926, 19927, 19928, 19929, 19931, 19933, 19934, 19935, 19937, 19939, 19940, 19941, 19943, 19944, 19945, 19946, 19948, 19949, 19952, 19953, 19954, 19955, 19956, 19957, 19958, 19959, 19960, 19961, 19962, 19963, 19964, 19965, 19966, 19967, 19968, 19969, 19970, 19971, 19972, 19974, 19975, 19976, 19978, 19979, 19980, 19981, 19982, 19983, 19984, 19985, 19986, 19987, 19988, 19989, 19991, 19992, 19993, 19994, 19995, 19996, 19997, 19999, 20000, 20001, 20002, 20003, 20006, 20007, 20008, 20009, 20010, 20011, 20012, 20013, 20016, 20017, 20018, 20020, 20021, 20022, 20023, 20024, 20026, 20027, 20028, 20029, 20030, 20031, 20032, 20033, 20034, 20035, 20036, 20037, 20038, 20039, 20040, 20042, 20043, 20044, 20045, 20047, 20048, 20049, 20050, 20051, 20052, 20053, 20056, 20057, 20058, 20059, 20060, 20061, 20062, 20063, 20064, 20065, 20066, 20069, 20071, 20072, 20073, 20074, 20080, 20081, 20083, 20084, 20085, 20088, 20089, 20095, 20096, 20097, 20098, 20099, 20101, 20102, 20106, 20107, 20108, 20109, 20114, 20115, 20116, 20117, 20119, 20120, 20121, 20122, 20124, 20125, 20126, 20127, 20129, 20130, 20131, 20132, 20135, 20136, 20138, 20139, 20140, 20141, 20142, 20144, 20145, 20147, 20148, 20149, 20150, 20151, 20152, 20153, 20154, 20155, 20158, 20160, 20161, 20162, 20166, 20168, 20170, 20171, 20172, 20173, 20175, 20176, 20177, 20179, 20180, 20183, 20185, 20187, 20188, 20189, 20191, 20192, 20195, 20196, 20197, 20199, 20200, 20201, 20202, 20206, 20208, 20210, 20213, 20215, 20216, 20217, 20218, 20220, 20221, 20222, 20224, 20225, 20226, 20227, 20228, 20229, 20231, 20232, 20233, 20234, 20235, 20238, 20239, 20240, 20241, 20242, 20243, 20245, 20247, 20250, 20251, 20252, 20253, 20254, 20255, 20256, 20257, 20258, 20259, 20260, 20261, 20262, 20263, 20264, 20266, 20267, 20268, 20269, 20270, 20271, 20274, 20275, 20276, 20278, 20280, 20281, 20282, 20284, 20285, 20286, 20289, 20290, 20291, 20292, 20293, 20294, 20295, 20296, 20297, 20298, 20299, 20300, 20301, 20302, 20303, 20304, 20305, 20306, 20307, 20308, 20310, 20311, 20312, 20314, 20316, 20317, 20318, 20319, 20320, 20321, 20322, 20324, 20325, 20326, 20327, 20328, 20329, 20330, 20331, 20332, 20333, 20334, 20335, 20336, 20338, 20339, 20340, 20341, 20342, 20343, 20344, 20345, 20346, 20347, 20348, 20349, 20350, 20351, 20352, 20353, 20354, 20355, 20356, 20357, 20358, 20359, 20360, 20361, 20362, 20363, 20364, 20365, 20366, 20367, 20368, 20369, 20370, 20371, 20372, 20373, 20375, 20376, 20379, 20381, 20383, 20384, 20385, 20386, 20387, 20388, 20390, 20392, 20393, 20394, 20395, 20396, 20397, 20398, 20399, 20400, 20401, 20402, 20404, 20405, 20406, 20407, 20409, 20410, 20411, 20412, 20413, 20414, 20415, 20416, 20417, 20419, 20420, 20422, 20424, 20426, 20427, 20428, 20429, 20430, 20431, 20432, 20433, 20435, 20436, 20437, 20438, 20439, 20440, 20441, 20443, 20444, 20445, 20446, 20447, 20448, 20449, 20450, 20452, 20453, 20454, 20455, 20456, 20457, 20459, 20460, 20463, 20464, 20465, 20467, 20469, 20470, 20471, 20472, 20473, 20475, 20476, 20477, 20478, 20479, 20480, 20483, 20484, 20485, 20486, 20487, 20489, 20490, 20491, 20492, 20493, 20496, 20498, 20500, 20501, 20502, 20503, 20504, 20507, 20508, 20509, 20510, 20511, 20512, 20513, 20515, 20517, 20518, 20519, 20520, 20522, 20523, 20526, 20527, 20528, 20530, 20531, 20532, 20533, 20536, 20538, 20539, 20541, 20546, 20547, 20548, 20549, 20550, 20551, 20553, 20555, 20556, 20558, 20559, 20562, 20563, 20565, 20566, 20568, 20569, 20570, 20571, 20572, 20573, 20574, 20575, 20576, 20578, 20579, 20580, 20582, 20583, 20584, 20585, 20586, 20587, 20589, 20590, 20591, 20592, 20593, 20594, 20595, 20596, 20597, 20599, 20600, 20602, 20603, 20604, 20605, 20607, 20612, 20613, 20614, 20616, 20617, 20618, 20619, 20622, 20624, 20629, 20631, 20632, 20633, 20634, 20635, 20636, 20637, 20638, 20640, 20641, 20642, 20643, 20644, 20645, 20647, 20648, 20649, 20650, 20652, 20653, 20654, 20655, 20656, 20657, 20659, 20660, 20661, 20662, 20664, 20666, 20667, 20668, 20669, 20670, 20671, 20672, 20673, 20674, 20675, 20676, 20677, 20679, 20680, 20682, 20683, 20684, 20685, 20686, 20687, 20688, 20689, 20690, 20691, 20692, 20693, 20694, 20695, 20696, 20697, 20698, 20699, 20701, 20702, 20703, 20705, 20710, 20712, 20714, 20715, 20716, 20717, 20718, 20719, 20720, 20721, 20723, 20724, 20725, 20726, 20727, 20728, 20730, 20731, 20733, 20736, 20737, 20739, 20740, 20741, 20742, 20743, 20744, 20745, 20746, 20747, 20748, 20749, 20751, 20752, 20753, 20754, 20755, 20756, 20757, 20759, 20763, 20765, 20767, 20768, 20769, 20771, 20772, 20773, 20775, 20778, 20779, 20781, 20782, 20783, 20785, 20786, 20787, 20788, 20789, 20793, 20794, 20795, 20796, 20798, 20800, 20801, 20803, 20804, 20805, 20806, 20811, 20812, 20813, 20814, 20815, 20816, 20817, 20818, 20822, 20823, 20824, 20825, 20827, 20828, 20829, 20830, 20831, 20832, 20833, 20834, 20836, 20837, 20839, 20841, 20842, 20843, 20844, 20845, 20846, 20848, 20849, 20850, 20852, 20853, 20854, 20855, 20856, 20857, 20858, 20859, 20860, 20861, 20862, 20863, 20865, 20866, 20867, 20868, 20869, 20870, 20871, 20872, 20873, 20874, 20875, 20876, 20877, 20878, 20880, 20881, 20882, 20883, 20884, 20885, 20887, 20888, 20890, 20891, 20893, 20894, 20895, 20897, 20898, 20899, 20900, 20902, 20905, 20906, 20907, 20908, 20909, 20910, 20911, 20913, 20914, 20915, 20917, 20918, 20919, 20920, 20922, 20923, 20926, 20927, 20928, 20933, 20934, 20935, 20936, 20938, 20939, 20940, 20941, 20942, 20943, 20945, 20947, 20948, 20949, 20950, 20951, 20953, 20955, 20956, 20957, 20958, 20959, 20960, 20961, 20962, 20963, 20964, 20966, 20967, 20968, 20970, 20971, 20972, 20973, 20974, 20975, 20977, 20978, 20979, 20980, 20981, 20982, 20983, 20986, 20987, 20991, 20992, 20993, 20995, 20996, 20998, 20999, 21000, 21001, 21002, 21006, 21007, 21008, 21009, 21011, 21012, 21013, 21014, 21015, 21017, 21018, 21020, 21021, 21022, 21023, 21025, 21026, 21027, 21030, 21031, 21033, 21034, 21035, 21036, 21037, 21038, 21039, 21040, 21041, 21042, 21043, 21044, 21045, 21046, 21047, 21048, 21049, 21050, 21051, 21052, 21053, 21054, 21058, 21059, 21060, 21061, 21062, 21063, 21065, 21066, 21067, 21068, 21069, 21070, 21071, 21072, 21073, 21076, 21077, 21078, 21081, 21087, 21089, 21090, 21093, 21094, 21096, 21100, 21105, 21107, 21108, 21109, 21110, 21113, 21114, 21115, 21116, 21118, 21119, 21120, 21122, 21123, 21124, 21126, 21127, 21129, 21131, 21132, 21133, 21134, 21135, 21137, 21138, 21139, 21141, 21142, 21143, 21144, 21145, 21146, 21147, 21148, 21149, 21150, 21152, 21153, 21155, 21156, 21157, 21158, 21159, 21160, 21161, 21162, 21163, 21166, 21167, 21168, 21169, 21170, 21171, 21173, 21174, 21175, 21176, 21178, 21179, 21180, 21181, 21182, 21183, 21184, 21185, 21189, 21190, 21191, 21192, 21194, 21196, 21197, 21198, 21199, 21200, 21201, 21202, 21203, 21204, 21206, 21207, 21208, 21210, 21211, 21212, 21213, 21215, 21216, 21217, 21219, 21221, 21222, 21224, 21225, 21226, 21227, 21228, 21229, 21230, 21231, 21232, 21234, 21235, 21236, 21237, 21239, 21241, 21244, 21245, 21246, 21247, 21248, 21249, 21250, 21251, 21253, 21255, 21256, 21257, 21258, 21259, 21262, 21264, 21265, 21266, 21267, 21268, 21270, 21274, 21276, 21277, 21278, 21280, 21281, 21282, 21283, 21284, 21285, 21286, 21287, 21288, 21290, 21291, 21293, 21294, 21295, 21297, 21298, 21299, 21300, 21301])\n"
     ]
    }
   ],
   "source": [
    "test = pickle.load(open(os.path.join(out_folder, f'{video_name}-tracks.pkl'), 'rb'))\n"
   ]
  },
  {
   "cell_type": "code",
   "execution_count": 13,
   "metadata": {},
   "outputs": [
    {
     "data": {
      "text/plain": [
       "(array([206., 142.,  94.,  67.,  66.,  41.,  37.,  58.,  52.,  46.,  39.,\n",
       "         26.,  29.,  20.,  21.,  19.,  16.,  12.,  11.,  11.,  11.,   8.,\n",
       "          8.,   7.,  10.,   8.,  11.,  11.,   9.,   8.,   9.,   6.,   4.,\n",
       "          3.,   4.,   4.,   2.,   1.,   1.,   1.,   0.,   0.,   0.,   1.,\n",
       "          2.,   0.,   1.,   2.,   1.,   2.,   3.,   2.,   2.,   5.,   4.,\n",
       "          0.,   2.,   1.,   2.,   1.,   1.,   0.,   0.,   2.,   0.,   0.,\n",
       "          0.,   1.,   0.,   0.,   1.,   0.,   1.,   0.,   0.,   1.,   0.,\n",
       "          0.,   0.,   0.,   1.,   0.,   0.,   0.,   0.,   0.,   3.,   1.,\n",
       "          0.,   1.,   1.,   0.,   0.,   0.,   0.,   0.,   0.,   0.,   0.,\n",
       "          1.]),\n",
       " array([  11.,   79.,  147.,  215.,  283.,  351.,  419.,  487.,  555.,\n",
       "         623.,  691.,  759.,  827.,  895.,  963., 1031., 1099., 1167.,\n",
       "        1235., 1303., 1371., 1439., 1507., 1575., 1643., 1711., 1779.,\n",
       "        1847., 1915., 1983., 2051., 2119., 2187., 2255., 2323., 2391.,\n",
       "        2459., 2527., 2595., 2663., 2731., 2799., 2867., 2935., 3003.,\n",
       "        3071., 3139., 3207., 3275., 3343., 3411., 3479., 3547., 3615.,\n",
       "        3683., 3751., 3819., 3887., 3955., 4023., 4091., 4159., 4227.,\n",
       "        4295., 4363., 4431., 4499., 4567., 4635., 4703., 4771., 4839.,\n",
       "        4907., 4975., 5043., 5111., 5179., 5247., 5315., 5383., 5451.,\n",
       "        5519., 5587., 5655., 5723., 5791., 5859., 5927., 5995., 6063.,\n",
       "        6131., 6199., 6267., 6335., 6403., 6471., 6539., 6607., 6675.,\n",
       "        6743., 6811.]),\n",
       " <BarContainer object of 100 artists>)"
      ]
     },
     "execution_count": 13,
     "metadata": {},
     "output_type": "execute_result"
    },
    {
     "data": {
      "image/png": "[encoded data removed]",
      "text/plain": [
       "<Figure size 640x480 with 1 Axes>"
      ]
     },
     "metadata": {},
     "output_type": "display_data"
    }
   ],
   "source": [
    "tracks_length = []\n",
    "for track_id, track in tracks.items():\n",
    "    if len(track) > 10:\n",
    "        tracks_length.append(len(track))\n",
    "plt.hist(tracks_length, bins=100)\n"
   ]
  },
  {
   "cell_type": "code",
   "execution_count": 14,
   "metadata": {},
   "outputs": [],
   "source": [
    "\n",
    "import matplotlib as mpl"
   ]
  },
  {
   "cell_type": "code",
   "execution_count": 15,
   "metadata": {},
   "outputs": [],
   "source": [
    "cmap = mpl.colormaps['tab20']\n",
    "colors = [(np.array(c) * 255) for c in cmap.colors]\n"
   ]
  },
  {
   "cell_type": "code",
   "execution_count": 16,
   "metadata": {},
   "outputs": [
    {
     "name": "stderr",
     "output_type": "stream",
     "text": [
      "\u001b[32m16:57:41\u001b[0m :: \u001b[1;35m  WriteGear  \u001b[0m :: \u001b[1;31m\u001b[2;33mWARNING \u001b[0m :: \u001b[1;37mOptional `-disable_ffmpeg_window` flag is only available on Windows OS with `logging=False`. Discarding!\u001b[0m\n"
     ]
    },
    {
     "name": "stdout",
     "output_type": "stream",
     "text": [
      "Frame number 0 processed.\n",
      "Frame number 1000 processed.\n",
      "Frame number 2000 processed.\n",
      "Frame number 3000 processed.\n",
      "Frame number 4000 processed.\n",
      "Frame number 5000 processed.\n",
      "Frame number 6000 processed.\n",
      "Empty frame. Ending stream.\n",
      "FileVideoStream stopped.\n",
      "302.2139778137207 fps: 22.533702938775264 6810 frames processed.\n"
     ]
    }
   ],
   "source": [
    "ds = VideoDataset(video_file)\n",
    "data_loader = torch.utils.data.DataLoader(ds, batch_size=1, num_workers=0)\n",
    "out_name = \"test-track-2.mp4\"\n",
    "\n",
    "output_params = {\"-input_framerate\": 30,\n",
    "                \"-pix_fmt\": \"yuv420p\"}\n",
    "writer = WriteGear(output=os.path.join(out_folder, out_name),\n",
    "                **output_params) \n",
    "\n",
    "t0 = time.time()\n",
    "first_frame = 0\n",
    "max_im = None # 10000\n",
    "for ind, f in enumerate(data_loader):\n",
    "    if ind < first_frame:\n",
    "        continue\n",
    "    if max_im is not None:\n",
    "        if ind >= max_im:\n",
    "            break\n",
    "    if ind % 1000 == 0:\n",
    "        print(f\"Frame number {ind} processed.\")\n",
    "\n",
    "    frame = f[0].numpy().copy() # Copy makes circle work for unclear reasons\n",
    "\n",
    "    for track_id, track in tracks.items():\n",
    "        if ind in track:\n",
    "            box = track[ind]\n",
    "            x = box[0] + int(box[2] / 2)\n",
    "            y = box[1] + int(box[3] / 2)\n",
    "            color = colors[track_id % len(colors)]\n",
    "            cv2.circle(frame, [int(x), int(y)], 8, (int(color[0]), int(color[1]), int(color[2])), -1)\n",
    "            cv2.putText(frame, str(track_id), (int(x), int(y)), cv2.FONT_HERSHEY_SIMPLEX, 0.5, (255, 0, 0), 1)\n",
    "    \n",
    "    if frame is not None:\n",
    "        writer.write(frame, rgb_mode=True)\n",
    "    else:\n",
    "        print(\"skipping.\")\n",
    "\n",
    "    if ind > 20000:\n",
    "        break\n",
    "ds.stop()   \n",
    "\n",
    "writer.close()\n",
    "total_time = time.time() - t0\n",
    "print(total_time, f\"fps: {ind / total_time}\", f\"{ind} frames processed.\")"
   ]
  },
  {
   "cell_type": "code",
   "execution_count": 63,
   "metadata": {},
   "outputs": [
    {
     "data": {
      "text/plain": [
       "(numpy.int64, 218, 229)"
      ]
     },
     "execution_count": 63,
     "metadata": {},
     "output_type": "execute_result"
    }
   ],
   "source": [
    "type(color[0]), color[1], color[2]"
   ]
  },
  {
   "cell_type": "code",
   "execution_count": 49,
   "metadata": {},
   "outputs": [
    {
     "data": {
      "text/plain": [
       "dict_keys([12531, 12610, 12630, 12652, 12700, 12713, 12764, 12783, 12784, 12785, 12786, 12787, 12788, 12789, 12790, 12791, 12792, 12793, 12794, 12795, 12796, 12797, 12798, 12799, 12800, 12801, 12802, 12803, 12804, 12805, 12806, 12807, 12808, 12809, 12810, 12811, 12812, 12813, 12814, 12815, 12816, 12817, 12818, 12819, 12820, 12821, 12822, 12823, 12824, 12825, 12826, 12827, 12828, 12829, 12830, 12831, 12832, 12833, 12834, 12835, 12836, 12837, 12838, 12839, 12840, 12841, 12842, 12843, 12844, 12845, 12846, 12847, 12848, 12849, 12850, 12851, 12852, 12853, 12854, 12855, 12856, 12857, 12858, 12859, 12860, 12861, 12862, 12863, 12864, 12865, 12866, 12867, 12868, 12869, 12870, 12871, 12872, 12873, 12874, 12875, 12876, 12877, 12878, 12879, 12880, 12881, 12882, 12883, 12884, 12885, 12886, 12887, 12888, 12889, 12891, 12893, 12894, 12895, 12897, 12899, 12901, 12903, 12904, 12905, 12906, 12907, 12912, 12914, 12916, 12917, 12918, 12919, 12920, 12921, 12922, 12923, 12925, 12926, 12927, 12928, 12929, 12933, 12934, 12935, 12936, 12940, 12942, 12943, 12946, 12947, 12948, 12950, 12951, 12953, 12954, 12959, 12960, 12961, 12962, 12963, 12964, 12966, 12967, 12970, 12971, 12974, 12980, 12981, 12982, 12983, 12984, 12985, 12986, 12987, 12988, 12989, 12991, 12992, 12993, 12994, 12995, 12996, 12997, 12999, 13000, 13002, 13003, 13004, 13006, 13008, 13012, 13013, 13014, 13015, 13017, 13018, 13019, 13020, 13021, 13022, 13023, 13024, 13026, 13027, 13028, 13029, 13030, 13032, 13033, 13034, 13035, 13036, 13037, 13038, 13040, 13041, 13042, 13043, 13044, 13045, 13047, 13048, 13053, 13055, 13056, 13057, 13059, 13060, 13061, 13062, 13064, 13065, 13066, 13067, 13068, 13069, 13070, 13074, 13076, 13077, 13080, 13081, 13082, 13083, 13085, 13087, 13088, 13089, 13090, 13092, 13093, 13095, 13097, 13098, 13100, 13104, 13107, 13108, 13109, 13110, 13111, 13112, 13113, 13114, 13115, 13117, 13118, 13119, 13120, 13121, 13122, 13123, 13124, 13126, 13127, 13128, 13131, 13132, 13134, 13136, 13137, 13138, 13140, 13141, 13142, 13144, 13145, 13147, 13148, 13149, 13150, 13151, 13152, 13153, 13155, 13156, 13157, 13158, 13159, 13160, 13162, 13163, 13167, 13168, 13170, 13171, 13172, 13173, 13174, 13180, 13181, 13185, 13187, 13188, 13190, 13192, 13194, 13195, 13197, 13198, 13199, 13201, 13203, 13204, 13205, 13206, 13208, 13209, 13210, 13213, 13214, 13215, 13216, 13217, 13218, 13219, 13220, 13222, 13223, 13224, 13226, 13227, 13229, 13230, 13232, 13234, 13235, 13236, 13238, 13239, 13241, 13242, 13244, 13246, 13247, 13248, 13249, 13250, 13252, 13254, 13255, 13256, 13257, 13258, 13259, 13262, 13264, 13265, 13266, 13267, 13271, 13273, 13275, 13276, 13277, 13279, 13280, 13281, 13282, 13284, 13285, 13291, 13292, 13293, 13294, 13296, 13297, 13298, 13301, 13302, 13304, 13306, 13307, 13311, 13312, 13313, 13314, 13316, 13318, 13319, 13320, 13321, 13322, 13323, 13324, 13325, 13327, 13329, 13330, 13331, 13333, 13334, 13336, 13337, 13339, 13340, 13341, 13342, 13343, 13346, 13347, 13348, 13351, 13352, 13353, 13354, 13355, 13356, 13357, 13359, 13362, 13364, 13365, 13367, 13368, 13370, 13371, 13373, 13374, 13375, 13376, 13383, 13385, 13386, 13387, 13395, 13397, 13399, 13400, 13402, 13403, 13405, 13408, 13409, 13410, 13411, 13412, 13413, 13416, 13419, 13420, 13421, 13422, 13426, 13427, 13428, 13429, 13431, 13433, 13434, 13435, 13437, 13438, 13440, 13443, 13445, 13447, 13452, 13453, 13455, 13457, 13461, 13462, 13463, 13464, 13468, 13469, 13471, 13472, 13473, 13474, 13478, 13479, 13480, 13482, 13484, 13485, 13488, 13489, 13492, 13493, 13494, 13495, 13498, 13499, 13500, 13501, 13502, 13505, 13506, 13507, 13510, 13513, 13514, 13515, 13516, 13518, 13520, 13521, 13523, 13524, 13525, 13530, 13531, 13532, 13533, 13535, 13538, 13539, 13540, 13541, 13542, 13545, 13546, 13549, 13550, 13551, 13554, 13556, 13557, 13558, 13560, 13562, 13563, 13564, 13565, 13568, 13570, 13571, 13572, 13573, 13575, 13576, 13577, 13580, 13581, 13582, 13583, 13584, 13585, 13587, 13589, 13590, 13591, 13594, 13596, 13597, 13598, 13600, 13601, 13602, 13603, 13604, 13606, 13607, 13608, 13609, 13610, 13611, 13612, 13615, 13616, 13620, 13621, 13622, 13623, 13627, 13628, 13629, 13631, 13632, 13633, 13635, 13636, 13638, 13641, 13642, 13643, 13645, 13646, 13648, 13651, 13653, 13654, 13656, 13657, 13659, 13660, 13661, 13665, 13666, 13668, 13671, 13673, 13674, 13675, 13679, 13682, 13683, 13684, 13687, 13688, 13691, 13692, 13694, 13695, 13696, 13697, 13699, 13701, 13702, 13703, 13704, 13705, 13706, 13707, 13709, 13711, 13712, 13714, 13715, 13716, 13718, 13719, 13720, 13722, 13723, 13724, 13725, 13730, 13733, 13734, 13735, 13736, 13738, 13740, 13741, 13742, 13746, 13748, 13750, 13751, 13752, 13753, 13757, 13759, 13763, 13764, 13767, 13768, 13769, 13770, 13772, 13773, 13775, 13777, 13778, 13780, 13782, 13783, 13784, 13785, 13786, 13787, 13789, 13793, 13795, 13796, 13798, 13799, 13800, 13802, 13803, 13805, 13806, 13807, 13809, 13810, 13811, 13812, 13813, 13814, 13815, 13817, 13818, 13820, 13821, 13822, 13823, 13829, 13830, 13832, 13833, 13834, 13836, 13838, 13839, 13840, 13841, 13842, 13844, 13845, 13846, 13847, 13848, 13851, 13852, 13855, 13857, 13858, 13859, 13860, 13861, 13862, 13863, 13865, 13866, 13867, 13868, 13870, 13871, 13874, 13876, 13877, 13878, 13880, 13881, 13882, 13883, 13884, 13885, 13887, 13888, 13889, 13890, 13892, 13893, 13894, 13896, 13898, 13899, 13901, 13902, 13903, 13905, 13906, 13907, 13908, 13909, 13911, 13914, 13915, 13916, 13917, 13918, 13919, 13920, 13922, 13927, 13928, 13931, 13932, 13934, 13935, 13938, 13939, 13940, 13943, 13945, 13946, 13947, 13948, 13951, 13952, 13954, 13955, 13956, 13959, 13960, 13961, 13963, 13964, 13966, 13968, 13970, 13972, 13973, 13974, 13975, 13976, 13977, 13978, 13980, 13983, 13984, 13989, 13990, 13991, 13992, 13994, 13995, 13997, 13998, 13999, 14000, 14004, 14005, 14006, 14009, 14010, 14011, 14012, 14013, 14014, 14016, 14017, 14018, 14019, 14020, 14021, 14022, 14023, 14024, 14025, 14026, 14028, 14029, 14030, 14031, 14033, 14035, 14036, 14038, 14040, 14043, 14046, 14047, 14053, 14057, 14058, 14060, 14061, 14062, 14063, 14065, 14067, 14068, 14075, 14076, 14077, 14079, 14081, 14082, 14086, 14089, 14091, 14094, 14095, 14096, 14097, 14098, 14099, 14101, 14102, 14104, 14106, 14107, 14108, 14110, 14111, 14113, 14116, 14117, 14118, 14123, 14125, 14126, 14127, 14131, 14132, 14133, 14135, 14138, 14139, 14141, 14144, 14145, 14146, 14147, 14148, 14149, 14150, 14152, 14154, 14155, 14156, 14157, 14159, 14160, 14163, 14166, 14167, 14168, 14170, 14171, 14174, 14177, 14178, 14181, 14184, 14185, 14186, 14187, 14190, 14191, 14193, 14194, 14195, 14196, 14198, 14201, 14202, 14203, 14204, 14205, 14206, 14207, 14208, 14214, 14215, 14217, 14219, 14222, 14223, 14225, 14226, 14227, 14228, 14229, 14231, 14233, 14234, 14235, 14237, 14238, 14239, 14240, 14245, 14246, 14247, 14248, 14250, 14252, 14257, 14258, 14259, 14261, 14264, 14265, 14267, 14269, 14275, 14277, 14280, 14282, 14283, 14285, 14286, 14287, 14290, 14291, 14292, 14293, 14296, 14299, 14300, 14301, 14302, 14303, 14306, 14307, 14308, 14309, 14310, 14311, 14312, 14313, 14315, 14316, 14318, 14320, 14321, 14322, 14323, 14328, 14329, 14330, 14332, 14333, 14334, 14335, 14338, 14339, 14340, 14343, 14345, 14346, 14348, 14350, 14352, 14354, 14358, 14359, 14361, 14362, 14363, 14364, 14365, 14366, 14367, 14368, 14369, 14370, 14371, 14372, 14374, 14375, 14376, 14378, 14382, 14383, 14384, 14386, 14389, 14390, 14391, 14392, 14393, 14394, 14397, 14399, 14400, 14402, 14403, 14407, 14409, 14410, 14411, 14413, 14414, 14415, 14416, 14418, 14421, 14422, 14423, 14424, 14426, 14427, 14428, 14430, 14433, 14434, 14435, 14436, 14437, 14438, 14439, 14440, 14441, 14442, 14443, 14446, 14447, 14450, 14451, 14453, 14455, 14458, 14459, 14460, 14461, 14462, 14464, 14467, 14468, 14469, 14472, 14474, 14475, 14476, 14478, 14481, 14483, 14485, 14487, 14488, 14490, 14492, 14494, 14495, 14496, 14497, 14498, 14500, 14501, 14503, 14504, 14505, 14508, 14510, 14511, 14513, 14515, 14516, 14517, 14519, 14520, 14521, 14522, 14524, 14525, 14528, 14529, 14530, 14531, 14534, 14535, 14537, 14538, 14539, 14541, 14542, 14543, 14544, 14545, 14546, 14548, 14550, 14551, 14552, 14553, 14556, 14557, 14562, 14565, 14567, 14569, 14572, 14573, 14574, 14576, 14577, 14578, 14579, 14580, 14581, 14583, 14584, 14587, 14588, 14589, 14592, 14593, 14594, 14595, 14596, 14597, 14599, 14600, 14604, 14606, 14608, 14610, 14612, 14614, 14616, 14618, 14621, 14622, 14623, 14624, 14625, 14627, 14629, 14632, 14635, 14636, 14637, 14638, 14639, 14642, 14643, 14644, 14645, 14646, 14647, 14648, 14649, 14651, 14652, 14654, 14655, 14656, 14660, 14662, 14664, 14665, 14666, 14667, 14668, 14670, 14673, 14674, 14676, 14677, 14678, 14679, 14681, 14682, 14684, 14685, 14690, 14691, 14692, 14695, 14696, 14700, 14702, 14703, 14704, 14706, 14707, 14708, 14710, 14711, 14712, 14713, 14722, 14727, 14728, 14729, 14731, 14732, 14733, 14735, 14736, 14740, 14741, 14743, 14746, 14749, 14751, 14752, 14754, 14755, 14756, 14759, 14760, 14761, 14763, 14765, 14766, 14768, 14772, 14773, 14774, 14775, 14776, 14777, 14779, 14780, 14782, 14783, 14786, 14787, 14789, 14791, 14793, 14796, 14798, 14799, 14804, 14807, 14808, 14810, 14812, 14813, 14814, 14816, 14818, 14821, 14824, 14829, 14830, 14832, 14833, 14835, 14836, 14840, 14841, 14843, 14845, 14846, 14848, 14851, 14852, 14853, 14854, 14855, 14857, 14858, 14859, 14860, 14863, 14865, 14866, 14867, 14868, 14870, 14871, 14872, 14874, 14876, 14879, 14880, 14884, 14885, 14891, 14893, 14894, 14897, 14899, 14901, 14903, 14904, 14905, 14906, 14907, 14908, 14910, 14912, 14914, 14915, 14919, 14921, 14923, 14926, 14927, 14928, 14929, 14930, 14933, 14934, 14935, 14936, 14937, 14941, 14946, 14947, 14949, 14950, 14951, 14952, 14954, 14955, 14956, 14962, 14963, 14964, 14968, 14970, 14971, 14972, 14973, 14975, 14976, 14978, 14981, 14983, 14984, 14985, 14986, 14987, 14991, 14997, 14998, 15000, 15003, 15005, 15006, 15008, 15010, 15013, 15014, 15019, 15021, 15026, 15027, 15029, 15030, 15031, 15033, 15034, 15035, 15036, 15038, 15041, 15042, 15043, 15044, 15045, 15046, 15051, 15052, 15053, 15056, 15058, 15059, 15060, 15063, 15066, 15069, 15071, 15073, 15077, 15080, 15082, 15083, 15084, 15085, 15087, 15088, 15090, 15091, 15093, 15094, 15096, 15098, 15100, 15102, 15103, 15106, 15117, 15124, 15125, 15126, 15129, 15131, 15132, 15133, 15134, 15135, 15136, 15138, 15139, 15141, 15145, 15146, 15150, 15151, 15155, 15156, 15157, 15159, 15160, 15163, 15164, 15165, 15166, 15167, 15175, 15177, 15179, 15180, 15185, 15186, 15187, 15192, 15195, 15196, 15197, 15199, 15202, 15203, 15205, 15207, 15208, 15209, 15211, 15212, 15215, 15216, 15218, 15220, 15221, 15223, 15224, 15225, 15229, 15231, 15232, 15233, 15235, 15236, 15237, 15238, 15240, 15244, 15246, 15247, 15249, 15251, 15252, 15253, 15254, 15255, 15256, 15257, 15258, 15259, 15262, 15263, 15265, 15268, 15271, 15272, 15274, 15275, 15277, 15278, 15279, 15283, 15287, 15289, 15292, 15293, 15294, 15295, 15299, 15300, 15303, 15305, 15306, 15311, 15315, 15317, 15318, 15320, 15321, 15324, 15325, 15326, 15327, 15329, 15330, 15332, 15337, 15338, 15339, 15340, 15343, 15345, 15347, 15350, 15351, 15352, 15354, 15355, 15357, 15359, 15360, 15363, 15364, 15365, 15367, 15371, 15373, 15374, 15375, 15377, 15378, 15379, 15381, 15382, 15383, 15385, 15389, 15391, 15393, 15394, 15395, 15397, 15400, 15401, 15402, 15406, 15410, 15412, 15413, 15414, 15417, 15418, 15421, 15423, 15424, 15425, 15426, 15428, 15429, 15431, 15437, 15439, 15440, 15441, 15442, 15443, 15444, 15445, 15449, 15452, 15453, 15454, 15457, 15460, 15461, 15463, 15464, 15465, 15466, 15468, 15471, 15472, 15474, 15475, 15476, 15480, 15481, 15482, 15483, 15484, 15490, 15491, 15492, 15495, 15496, 15497, 15500, 15501, 15503, 15505, 15506, 15507, 15509, 15510, 15511, 15513, 15515, 15516, 15518, 15519, 15520, 15523, 15525, 15526, 15527, 15529, 15530, 15531, 15532, 15535, 15536, 15538, 15539, 15540, 15541, 15542, 15543, 15547, 15552, 15553, 15554, 15555, 15556, 15562, 15567, 15569, 15572, 15573, 15574, 15575, 15576, 15577, 15578, 15579, 15580, 15583, 15584, 15585, 15586, 15588, 15590, 15591, 15592, 15594, 15595, 15597, 15599, 15600, 15601, 15602, 15603, 15604, 15605, 15606, 15607, 15608, 15609, 15610, 15611, 15612, 15613, 15614, 15616, 15617, 15618, 15620, 15621, 15622, 15623, 15624, 15625, 15626, 15629, 15630, 15632, 15634, 15635, 15638, 15641, 15643, 15645, 15646, 15647, 15648, 15649, 15650, 15651, 15652, 15653, 15654, 15656, 15657, 15658, 15659, 15660, 15661, 15662, 15663, 15664, 15665, 15666, 15668, 15670, 15671, 15672, 15674, 15676, 15677, 15678, 15680, 15681, 15682, 15683, 15685, 15686, 15689, 15690, 15691, 15692, 15693, 15694, 15695, 15696, 15697, 15698, 15699, 15700, 15701, 15702, 15703, 15704, 15705, 15706, 15707, 15708, 15709, 15711, 15712, 15713, 15715, 15716, 15717, 15718, 15719, 15720, 15721, 15722, 15723, 15724, 15725, 15726, 15728, 15729, 15730, 15731, 15732, 15733, 15734, 15736, 15737, 15738, 15739, 15740, 15743, 15744, 15745, 15746, 15747, 15748, 15749, 15750, 15753, 15754, 15755, 15757, 15758, 15759, 15760, 15761, 15763, 15764, 15765, 15766, 15767, 15768, 15769, 15770, 15771, 15772, 15773, 15774, 15775, 15776, 15777, 15779, 15780, 15781, 15782, 15784, 15785, 15786, 15787, 15788, 15789, 15790, 15793, 15794, 15795, 15796, 15797, 15798, 15799, 15800, 15801, 15802, 15803, 15806, 15808, 15809, 15810, 15811, 15817, 15818, 15820, 15821, 15822, 15825, 15826, 15832, 15833, 15834, 15835, 15836, 15838, 15839, 15843, 15844, 15845, 15846, 15851, 15852, 15853, 15854, 15856, 15857, 15858, 15859, 15861, 15862, 15863, 15864, 15866, 15867, 15868, 15869, 15872, 15873, 15875, 15876, 15877, 15878, 15879, 15881, 15882, 15884, 15885, 15886, 15887, 15888, 15889, 15890, 15891, 15892, 15895, 15897, 15898, 15899, 15903, 15905, 15907, 15908, 15909, 15910, 15912, 15913, 15914, 15916, 15917, 15920, 15922, 15924, 15925, 15926, 15928, 15929, 15932, 15933, 15934, 15936, 15937, 15938, 15939, 15943, 15945, 15947, 15950, 15952, 15953, 15954, 15955, 15957, 15958, 15959, 15961, 15962, 15963, 15964, 15965, 15966, 15968, 15969, 15970, 15971, 15972, 15975, 15976, 15977, 15978, 15979, 15980, 15982, 15984, 15987, 15988, 15989, 15990, 15991, 15992, 15993, 15994, 15995, 15996, 15997, 15998, 15999, 16000, 16001, 16003, 16004, 16005, 16006, 16007, 16008, 16011, 16012, 16013, 16015, 16017, 16018, 16019, 16021, 16022, 16023, 16026, 16027, 16028, 16029, 16030, 16031, 16032, 16033, 16034, 16035, 16036, 16037, 16038, 16039, 16040, 16041, 16042, 16043, 16044, 16045, 16047, 16048, 16049, 16051, 16053, 16054, 16055, 16056, 16057, 16058, 16059, 16061, 16062, 16063, 16064, 16065, 16066, 16067, 16068, 16069, 16070, 16071, 16072, 16073, 16075, 16076, 16077, 16078, 16079, 16080, 16081, 16082, 16083, 16084, 16085, 16086, 16087, 16088, 16089, 16090, 16091, 16092, 16093, 16094, 16095, 16096, 16097, 16098, 16099, 16100, 16101, 16102, 16103, 16104, 16105, 16106, 16107, 16108, 16109, 16110, 16112, 16113, 16116, 16118, 16120, 16121, 16122, 16123, 16124, 16125, 16127, 16129, 16130, 16131, 16132, 16133, 16134, 16135, 16136, 16137, 16138, 16139, 16141, 16142, 16143, 16144, 16146, 16147, 16148, 16149, 16150, 16151, 16152, 16153, 16154, 16156, 16157, 16159, 16161, 16163, 16164, 16165, 16166, 16167, 16168, 16169, 16170, 16172, 16173, 16174, 16175, 16176, 16177, 16178, 16180, 16181, 16182, 16183, 16184, 16185, 16186, 16187, 16189, 16190, 16191, 16192, 16193, 16194, 16196, 16197, 16200, 16201, 16202, 16204, 16206, 16207, 16208, 16209, 16210, 16212, 16213, 16214, 16215, 16216, 16217, 16220, 16221, 16222, 16223, 16224, 16226, 16227, 16228, 16229, 16230, 16233, 16235, 16237, 16238, 16239, 16240, 16241, 16244, 16245, 16246, 16247, 16248, 16249, 16250, 16252, 16254, 16255, 16256, 16257, 16259, 16260, 16263, 16264, 16265, 16267, 16268, 16269, 16270, 16273, 16275, 16276, 16278, 16283, 16284, 16285, 16286, 16287, 16288, 16290, 16292, 16293, 16295, 16296, 16299, 16300, 16302, 16303, 16305, 16306, 16307, 16308, 16309, 16310, 16311, 16312, 16313, 16315, 16316, 16317, 16319, 16320, 16321, 16322, 16323, 16324, 16326, 16327, 16328, 16329, 16330, 16331, 16332, 16333, 16334, 16336, 16337, 16339, 16340, 16341, 16342, 16344, 16349, 16350, 16351, 16353, 16354, 16355, 16356, 16359, 16361, 16366, 16368, 16369, 16370, 16371, 16372, 16373, 16374, 16375, 16377, 16378, 16379, 16380, 16381, 16382, 16384, 16385, 16386, 16387, 16389, 16390, 16391, 16392, 16393, 16394, 16396, 16397, 16398, 16399, 16401, 16403, 16404, 16405, 16406, 16407, 16408, 16409, 16410, 16411, 16412, 16413, 16414, 16416, 16417, 16419, 16420, 16421, 16422, 16423, 16424, 16425, 16426, 16427, 16428, 16429, 16430, 16431, 16432, 16433, 16434, 16435, 16436, 16438, 16439, 16440, 16442, 16447, 16449, 16451, 16452, 16453, 16454, 16455, 16456, 16457, 16458, 16460, 16461, 16462, 16463, 16464, 16465, 16467, 16468, 16470, 16473, 16474, 16476, 16477, 16478, 16479, 16480, 16481, 16482, 16483, 16484, 16485, 16486, 16488, 16489, 16490, 16491, 16492, 16493, 16494, 16496, 16500, 16502, 16504, 16505, 16506, 16508, 16509, 16510, 16512, 16515, 16516, 16518, 16519, 16520, 16522, 16523, 16524, 16525, 16526, 16530, 16531, 16532, 16533, 16535, 16537, 16538, 16540, 16541, 16542, 16543, 16548, 16549, 16550, 16551, 16552, 16553, 16554, 16555, 16559, 16560, 16561, 16562, 16564, 16565, 16566, 16567, 16568, 16569, 16570, 16571, 16573, 16574, 16576, 16578, 16579, 16580, 16581, 16582, 16583, 16585, 16586, 16587, 16589, 16590, 16591, 16592, 16593, 16594, 16595, 16596, 16597, 16598, 16599, 16600, 16602, 16603, 16604, 16605, 16606, 16607, 16608, 16609, 16610, 16611, 16612, 16613, 16614, 16615, 16617, 16618, 16619, 16620, 16621, 16622, 16624, 16625, 16627, 16628, 16630, 16631, 16632, 16634, 16635, 16636, 16637, 16639, 16642, 16643, 16644, 16645, 16646, 16647, 16648, 16650, 16651, 16652, 16654, 16655, 16656, 16657, 16659, 16660, 16663, 16664, 16665, 16670, 16671, 16672, 16673, 16675, 16676, 16677, 16678, 16679, 16680, 16682, 16684, 16685, 16686, 16687, 16688, 16690, 16692, 16693, 16694, 16695, 16696, 16697, 16698, 16699, 16700, 16701, 16703, 16704, 16705, 16707, 16708, 16709, 16710, 16711, 16712, 16714, 16715, 16716, 16717, 16718, 16719, 16720, 16723, 16724, 16728, 16729, 16730, 16732, 16733, 16735, 16736, 16737, 16738, 16739, 16743, 16744, 16745, 16746, 16748, 16749, 16750, 16751, 16752, 16754, 16755, 16757, 16758, 16759, 16760, 16762, 16763, 16764, 16767, 16768, 16770, 16771, 16772, 16773, 16774, 16775, 16776, 16777, 16778, 16779, 16780, 16781, 16782, 16783, 16784, 16785, 16786, 16787, 16788, 16789, 16790, 16791, 16795, 16796, 16797, 16798, 16799, 16800, 16802, 16803, 16804, 16805, 16806, 16807, 16808, 16809, 16810, 16813, 16814, 16815, 16818, 16824, 16826, 16827, 16830, 16831, 16833, 16837, 16842, 16844, 16845, 16846, 16847, 16850, 16851, 16852, 16853, 16855, 16856, 16857, 16859, 16860, 16861, 16863, 16864, 16866, 16868, 16869, 16870, 16871, 16872, 16874, 16875, 16876, 16878, 16879, 16880, 16881, 16882, 16883, 16884, 16885, 16886, 16887, 16889, 16890, 16892, 16893, 16894, 16895, 16896, 16897, 16898, 16899, 16900, 16903, 16904, 16905, 16906, 16907, 16908, 16910, 16911, 16912, 16913, 16915, 16916, 16917, 16918, 16919, 16920, 16921, 16922, 16926, 16927, 16928, 16929, 16931, 16933, 16934, 16935, 16936, 16937, 16938, 16939, 16940, 16941, 16943, 16944, 16945, 16947, 16948, 16949, 16950, 16952, 16953, 16954, 16956, 16958, 16959, 16961, 16962, 16963, 16964, 16965, 16966, 16967, 16968, 16969, 16971, 16972, 16973, 16974, 16976, 16978, 16981, 16982, 16983, 16984, 16985, 16986, 16987, 16988, 16990, 16992, 16993, 16994, 16995, 16996, 16999, 17001, 17002, 17003, 17004, 17005, 17007, 17011, 17013, 17014, 17015, 17017, 17018, 17019, 17020, 17021, 17022, 17023, 17024, 17025, 17027, 17028, 17030, 17031, 17032, 17034, 17035, 17036, 17037, 17038])"
      ]
     },
     "execution_count": 49,
     "metadata": {},
     "output_type": "execute_result"
    }
   ],
   "source": [
    "tracks.keys()"
   ]
  },
  {
   "cell_type": "code",
   "execution_count": null,
   "metadata": {},
   "outputs": [
    {
     "name": "stderr",
     "output_type": "stream",
     "text": [
      "\u001b[32m17:33:53\u001b[0m :: \u001b[1;35m  WriteGear  \u001b[0m :: \u001b[1;31m\u001b[2;33mWARNING \u001b[0m :: \u001b[1;37mOptional `-disable_ffmpeg_window` flag is only available on Windows OS with `logging=False`. Discarding!\u001b[0m\n"
     ]
    },
    {
     "name": "stdout",
     "output_type": "stream",
     "text": [
      "Frame number 0 processed.\n"
     ]
    },
    {
     "name": "stderr",
     "output_type": "stream",
     "text": [
      "\u001b[32m17:33:54\u001b[0m :: \u001b[1;35m  WriteGear  \u001b[0m :: \u001b[1;31m ERROR  \u001b[0m :: \u001b[1;37mBrokenPipeError caught, Wrong values passed to FFmpeg Pipe. Kindly Refer Docs!\u001b[0m\n"
     ]
    },
    {
     "ename": "ValueError",
     "evalue": "",
     "output_type": "error",
     "traceback": [
      "\u001b[0;31m---------------------------------------------------------------------------\u001b[0m",
      "\u001b[0;31mBrokenPipeError\u001b[0m                           Traceback (most recent call last)",
      "File \u001b[0;32m~/environments/orthocounting/lib/python3.10/site-packages/vidgear/gears/writegear.py:430\u001b[0m, in \u001b[0;36mWriteGear.write\u001b[0;34m(self, frame, rgb_mode)\u001b[0m\n\u001b[1;32m    428\u001b[0m \u001b[38;5;28;01mtry\u001b[39;00m:\n\u001b[1;32m    429\u001b[0m     \u001b[38;5;66;03m# try writing the frame bytes to the subprocess pipeline\u001b[39;00m\n\u001b[0;32m--> 430\u001b[0m     \u001b[38;5;28;43mself\u001b[39;49m\u001b[38;5;241;43m.\u001b[39;49m\u001b[43m__process\u001b[49m\u001b[38;5;241;43m.\u001b[39;49m\u001b[43mstdin\u001b[49m\u001b[38;5;241;43m.\u001b[39;49m\u001b[43mwrite\u001b[49m\u001b[43m(\u001b[49m\u001b[43mframe\u001b[49m\u001b[38;5;241;43m.\u001b[39;49m\u001b[43mtobytes\u001b[49m\u001b[43m(\u001b[49m\u001b[43m)\u001b[49m\u001b[43m)\u001b[49m\n\u001b[1;32m    431\u001b[0m \u001b[38;5;28;01mexcept\u001b[39;00m (\u001b[38;5;167;01mOSError\u001b[39;00m, \u001b[38;5;167;01mIOError\u001b[39;00m):\n\u001b[1;32m    432\u001b[0m     \u001b[38;5;66;03m# log if something is wrong!\u001b[39;00m\n",
      "\u001b[0;31mBrokenPipeError\u001b[0m: [Errno 32] Broken pipe",
      "\nDuring handling of the above exception, another exception occurred:\n",
      "\u001b[0;31mValueError\u001b[0m                                Traceback (most recent call last)",
      "Cell \u001b[0;32mIn[6], line 52\u001b[0m\n\u001b[1;32m     50\u001b[0m         cv2\u001b[38;5;241m.\u001b[39mcircle(frame, [\u001b[38;5;28mint\u001b[39m(x), \u001b[38;5;28mint\u001b[39m(y)], \u001b[38;5;241m8\u001b[39m, (\u001b[38;5;241m255\u001b[39m, \u001b[38;5;241m0\u001b[39m, \u001b[38;5;241m0\u001b[39m), \u001b[38;5;241m-\u001b[39m\u001b[38;5;241m1\u001b[39m)\n\u001b[1;32m     51\u001b[0m \u001b[38;5;28;01mif\u001b[39;00m frame \u001b[38;5;129;01mis\u001b[39;00m \u001b[38;5;129;01mnot\u001b[39;00m \u001b[38;5;28;01mNone\u001b[39;00m:\n\u001b[0;32m---> 52\u001b[0m     \u001b[43mwriter\u001b[49m\u001b[38;5;241;43m.\u001b[39;49m\u001b[43mwrite\u001b[49m\u001b[43m(\u001b[49m\u001b[43mframe\u001b[49m\u001b[43m[\u001b[49m\u001b[43m:\u001b[49m\u001b[38;5;241;43m720\u001b[39;49m\u001b[43m,\u001b[49m\u001b[43m \u001b[49m\u001b[43m:\u001b[49m\u001b[38;5;241;43m1280\u001b[39;49m\u001b[43m]\u001b[49m\u001b[43m,\u001b[49m\u001b[43m \u001b[49m\u001b[43mrgb_mode\u001b[49m\u001b[38;5;241;43m=\u001b[39;49m\u001b[38;5;28;43;01mTrue\u001b[39;49;00m\u001b[43m)\u001b[49m\n\u001b[1;32m     53\u001b[0m \u001b[38;5;28;01melse\u001b[39;00m:\n\u001b[1;32m     54\u001b[0m     \u001b[38;5;28mprint\u001b[39m(\u001b[38;5;124m\"\u001b[39m\u001b[38;5;124mskipping.\u001b[39m\u001b[38;5;124m\"\u001b[39m)\n",
      "File \u001b[0;32m~/environments/orthocounting/lib/python3.10/site-packages/vidgear/gears/writegear.py:436\u001b[0m, in \u001b[0;36mWriteGear.write\u001b[0;34m(self, frame, rgb_mode)\u001b[0m\n\u001b[1;32m    431\u001b[0m     \u001b[38;5;28;01mexcept\u001b[39;00m (\u001b[38;5;167;01mOSError\u001b[39;00m, \u001b[38;5;167;01mIOError\u001b[39;00m):\n\u001b[1;32m    432\u001b[0m         \u001b[38;5;66;03m# log if something is wrong!\u001b[39;00m\n\u001b[1;32m    433\u001b[0m         logger\u001b[38;5;241m.\u001b[39merror(\n\u001b[1;32m    434\u001b[0m             \u001b[38;5;124m\"\u001b[39m\u001b[38;5;124mBrokenPipeError caught, Wrong values passed to FFmpeg Pipe. Kindly Refer Docs!\u001b[39m\u001b[38;5;124m\"\u001b[39m\n\u001b[1;32m    435\u001b[0m         )\n\u001b[0;32m--> 436\u001b[0m         \u001b[38;5;28;01mraise\u001b[39;00m \u001b[38;5;167;01mValueError\u001b[39;00m  \u001b[38;5;66;03m# for testing purpose only\u001b[39;00m\n\u001b[1;32m    437\u001b[0m \u001b[38;5;28;01melse\u001b[39;00m:\n\u001b[1;32m    438\u001b[0m     \u001b[38;5;66;03m# otherwise initiate OpenCV's VideoWriter Class process\u001b[39;00m\n\u001b[1;32m    439\u001b[0m     \u001b[38;5;28;01mif\u001b[39;00m \u001b[38;5;28mself\u001b[39m\u001b[38;5;241m.\u001b[39m__initiate_process:\n\u001b[1;32m    440\u001b[0m         \u001b[38;5;66;03m# start VideoWriter Class process\u001b[39;00m\n",
      "\u001b[0;31mValueError\u001b[0m: "
     ]
    }
   ],
   "source": [
    "create_video = True\n",
    "for video_file in video_names:\n",
    "    video_name = os.path.splitext(os.path.basename(video_file))[0]\n",
    "    out_name = video_name # probably needs .mp4\n",
    "    ds = VideoDataset(video_file)\n",
    "    data_loader = torch.utils.data.DataLoader(ds, batch_size=1, num_workers=0)\n",
    "\n",
    "    if create_video:\n",
    "        output_params = {\"-input_framerate\": 30,\n",
    "                    \"-pix_fmt\": \"yuv420p\"}\n",
    "        writer = WriteGear(output=os.path.join(out_folder, out_name),\n",
    "                        **output_params) \n",
    "\n",
    "\n",
    "    all_boxes = []\n",
    "    all_scores = []\n",
    "\n",
    "    t0 = time.time()\n",
    "    first_frame = 0\n",
    "    max_im = None # 10000\n",
    "    for ind, f in enumerate(data_loader):\n",
    "        if ind < first_frame:\n",
    "            continue\n",
    "        if max_im is not None:\n",
    "            if ind >= max_im:\n",
    "                break\n",
    "        if ind % 1000 == 0:\n",
    "            print(f\"Frame number {ind} processed.\")\n",
    "        res = predictor(f[0])\n",
    "        boxes = res['boxes'].to('cpu').numpy().astype(np.uint32)\n",
    "        scores = res['scores'].to('cpu').numpy()\n",
    "        labels = res['labels'].to('cpu').numpy()\n",
    "\n",
    "        image_name = f\"{video_name}-frame-{ind}\"\n",
    "\n",
    "        all_boxes.append(boxes)\n",
    "        all_scores.append(scores)\n",
    "\n",
    "        if create_video:\n",
    "            frame = f[0].numpy().copy() # Copy makes circle work for unclear reasons\n",
    "            \n",
    "            for box, score, label in zip(boxes, scores, labels):\n",
    "                if score < .9:\n",
    "                    continue\n",
    "                x = np.mean([box[0], box[2]])\n",
    "                y = np.mean([box[1], box[3]])\n",
    "                if label == 1:\n",
    "                    cv2.circle(frame, [int(x), int(y)], 4, (4,217,255), -1)\n",
    "                else:\n",
    "                    cv2.circle(frame, [int(x), int(y)], 8, (255, 0, 0), -1)\n",
    "            if frame is not None:\n",
    "                writer.write(frame[:720, :1280], rgb_mode=True)\n",
    "            else:\n",
    "                print(\"skipping.\")\n",
    "    ds.stop()   \n",
    "    if create_video: \n",
    "        writer.close()\n",
    "    total_time = time.time() - t0\n",
    "    print(total_time, f\"fps: {ind / total_time}\", f\"{ind} frames processed.\")\n",
    "\n",
    "    np.savez_compressed(os.path.join(out_folder, f\"{video_name}-boxes.npz\"), *all_boxes)\n",
    "    np.savez_compressed(os.path.join(out_folder, f\"{video_name}-scores.npz\"), *all_scores)"
   ]
  },
  {
   "cell_type": "code",
   "execution_count": 8,
   "metadata": {},
   "outputs": [
    {
     "name": "stderr",
     "output_type": "stream",
     "text": [
      "\u001b[32m17:23:37\u001b[0m :: \u001b[1;35m  WriteGear  \u001b[0m :: \u001b[1;31m\u001b[2;33mWARNING \u001b[0m :: \u001b[1;37mOptional `-disable_ffmpeg_window` flag is only available on Windows OS with `logging=False`. Discarding!\u001b[0m\n",
      "\u001b[32m17:23:37\u001b[0m :: \u001b[1;35m  WriteGear  \u001b[0m :: \u001b[1;31m ERROR  \u001b[0m :: \u001b[1;37mBrokenPipeError caught, Wrong values passed to FFmpeg Pipe. Kindly Refer Docs!\u001b[0m\n"
     ]
    },
    {
     "ename": "ValueError",
     "evalue": "",
     "output_type": "error",
     "traceback": [
      "\u001b[0;31m---------------------------------------------------------------------------\u001b[0m",
      "\u001b[0;31mBrokenPipeError\u001b[0m                           Traceback (most recent call last)",
      "File \u001b[0;32m~/environments/orthocounting/lib/python3.10/site-packages/vidgear/gears/writegear.py:430\u001b[0m, in \u001b[0;36mWriteGear.write\u001b[0;34m(self, frame, rgb_mode)\u001b[0m\n\u001b[1;32m    428\u001b[0m \u001b[38;5;28;01mtry\u001b[39;00m:\n\u001b[1;32m    429\u001b[0m     \u001b[38;5;66;03m# try writing the frame bytes to the subprocess pipeline\u001b[39;00m\n\u001b[0;32m--> 430\u001b[0m     \u001b[38;5;28;43mself\u001b[39;49m\u001b[38;5;241;43m.\u001b[39;49m\u001b[43m__process\u001b[49m\u001b[38;5;241;43m.\u001b[39;49m\u001b[43mstdin\u001b[49m\u001b[38;5;241;43m.\u001b[39;49m\u001b[43mwrite\u001b[49m\u001b[43m(\u001b[49m\u001b[43mframe\u001b[49m\u001b[38;5;241;43m.\u001b[39;49m\u001b[43mtobytes\u001b[49m\u001b[43m(\u001b[49m\u001b[43m)\u001b[49m\u001b[43m)\u001b[49m\n\u001b[1;32m    431\u001b[0m \u001b[38;5;28;01mexcept\u001b[39;00m (\u001b[38;5;167;01mOSError\u001b[39;00m, \u001b[38;5;167;01mIOError\u001b[39;00m):\n\u001b[1;32m    432\u001b[0m     \u001b[38;5;66;03m# log if something is wrong!\u001b[39;00m\n",
      "\u001b[0;31mBrokenPipeError\u001b[0m: [Errno 32] Broken pipe",
      "\nDuring handling of the above exception, another exception occurred:\n",
      "\u001b[0;31mValueError\u001b[0m                                Traceback (most recent call last)",
      "Cell \u001b[0;32mIn[8], line 8\u001b[0m\n\u001b[1;32m      4\u001b[0m writer \u001b[38;5;241m=\u001b[39m WriteGear(output\u001b[38;5;241m=\u001b[39mos\u001b[38;5;241m.\u001b[39mpath\u001b[38;5;241m.\u001b[39mjoin(out_folder, out_name),\n\u001b[1;32m      5\u001b[0m                 \u001b[38;5;241m*\u001b[39m\u001b[38;5;241m*\u001b[39moutput_params) \n\u001b[1;32m      7\u001b[0m \u001b[38;5;28;01mfor\u001b[39;00m i \u001b[38;5;129;01min\u001b[39;00m \u001b[38;5;28mrange\u001b[39m(\u001b[38;5;241m300\u001b[39m):\n\u001b[0;32m----> 8\u001b[0m     \u001b[43mwriter\u001b[49m\u001b[38;5;241;43m.\u001b[39;49m\u001b[43mwrite\u001b[49m\u001b[43m(\u001b[49m\u001b[43mnp\u001b[49m\u001b[38;5;241;43m.\u001b[39;49m\u001b[43mones\u001b[49m\u001b[43m(\u001b[49m\u001b[43m(\u001b[49m\u001b[38;5;241;43m400\u001b[39;49m\u001b[43m,\u001b[49m\u001b[43m \u001b[49m\u001b[38;5;241;43m400\u001b[39;49m\u001b[43m,\u001b[49m\u001b[43m \u001b[49m\u001b[38;5;241;43m3\u001b[39;49m\u001b[43m)\u001b[49m\u001b[43m)\u001b[49m\u001b[43m,\u001b[49m\u001b[43m \u001b[49m\u001b[43mrgb_mode\u001b[49m\u001b[38;5;241;43m=\u001b[39;49m\u001b[38;5;28;43;01mTrue\u001b[39;49;00m\u001b[43m)\u001b[49m\n\u001b[1;32m     10\u001b[0m writer\u001b[38;5;241m.\u001b[39mclose()\n",
      "File \u001b[0;32m~/environments/orthocounting/lib/python3.10/site-packages/vidgear/gears/writegear.py:436\u001b[0m, in \u001b[0;36mWriteGear.write\u001b[0;34m(self, frame, rgb_mode)\u001b[0m\n\u001b[1;32m    431\u001b[0m     \u001b[38;5;28;01mexcept\u001b[39;00m (\u001b[38;5;167;01mOSError\u001b[39;00m, \u001b[38;5;167;01mIOError\u001b[39;00m):\n\u001b[1;32m    432\u001b[0m         \u001b[38;5;66;03m# log if something is wrong!\u001b[39;00m\n\u001b[1;32m    433\u001b[0m         logger\u001b[38;5;241m.\u001b[39merror(\n\u001b[1;32m    434\u001b[0m             \u001b[38;5;124m\"\u001b[39m\u001b[38;5;124mBrokenPipeError caught, Wrong values passed to FFmpeg Pipe. Kindly Refer Docs!\u001b[39m\u001b[38;5;124m\"\u001b[39m\n\u001b[1;32m    435\u001b[0m         )\n\u001b[0;32m--> 436\u001b[0m         \u001b[38;5;28;01mraise\u001b[39;00m \u001b[38;5;167;01mValueError\u001b[39;00m  \u001b[38;5;66;03m# for testing purpose only\u001b[39;00m\n\u001b[1;32m    437\u001b[0m \u001b[38;5;28;01melse\u001b[39;00m:\n\u001b[1;32m    438\u001b[0m     \u001b[38;5;66;03m# otherwise initiate OpenCV's VideoWriter Class process\u001b[39;00m\n\u001b[1;32m    439\u001b[0m     \u001b[38;5;28;01mif\u001b[39;00m \u001b[38;5;28mself\u001b[39m\u001b[38;5;241m.\u001b[39m__initiate_process:\n\u001b[1;32m    440\u001b[0m         \u001b[38;5;66;03m# start VideoWriter Class process\u001b[39;00m\n",
      "\u001b[0;31mValueError\u001b[0m: "
     ]
    }
   ],
   "source": [
    "output_params = {\"-input_framerate\": 30,\n",
    "# }\n",
    "                \"-pix_fmt\": \"yuv420p\"}\n",
    "writer = WriteGear(output=os.path.join(out_folder, out_name),\n",
    "                **output_params) \n",
    "\n",
    "for i in range(300):\n",
    "    writer.write(np.ones((400, 400, 3)), rgb_mode=True)\n",
    "\n",
    "writer.close()\n",
    "\n"
   ]
  },
  {
   "cell_type": "code",
   "execution_count": 30,
   "metadata": {},
   "outputs": [],
   "source": [
    "np.savez_compressed(os.path.join(out_folder, f\"{video_name}-allboxes.npz\"), *all_boxes)\n",
    "np.savez_compressed(os.path.join(out_folder, f\"{video_name}-allscores.npz\"), *all_scores)"
   ]
  },
  {
   "cell_type": "code",
   "execution_count": 17,
   "metadata": {},
   "outputs": [
    {
     "data": {
      "text/plain": [
       "'/mnt/c/Users/benko/Dropbox/Dungeness_smolt_outflow/videos/2024/100TLC2K/output/A_TLC00001-allboxes.npz'"
      ]
     },
     "execution_count": 17,
     "metadata": {},
     "output_type": "execute_result"
    }
   ],
   "source": [
    "os.path.join(out_folder, f\"{video_name}-allboxes.npz\")"
   ]
  },
  {
   "cell_type": "code",
   "execution_count": 36,
   "metadata": {},
   "outputs": [],
   "source": [
    "boxes = []\n",
    "z = np.load(os.path.join(out_folder, f\"{video_name}-boxes.npz\"))\n",
    "for key in z:\n",
    "    boxes.append(z[key])\n",
    "\n",
    "scores = []\n",
    "z = np.load(os.path.join(out_folder, f\"{video_name}-scores.npz\"))\n",
    "for key in z:\n",
    "    scores.append(z[key])\n"
   ]
  },
  {
   "cell_type": "code",
   "execution_count": 39,
   "metadata": {},
   "outputs": [],
   "source": [
    "thresh = .7\n",
    "counts = []\n",
    "for frame_boxes, frame_scores in zip(boxes, scores):\n",
    "    mask = frame_scores > thresh\n",
    "    count = np.sum(mask)\n",
    "    counts.append(count)"
   ]
  },
  {
   "cell_type": "code",
   "execution_count": 40,
   "metadata": {},
   "outputs": [
    {
     "data": {
      "text/plain": [
       "[<matplotlib.lines.Line2D at 0x7f84a47066e0>]"
      ]
     },
     "execution_count": 40,
     "metadata": {},
     "output_type": "execute_result"
    },
    {
     "data": {
      "image/png": "[encoded data removed]",
      "text/plain": [
       "<Figure size 640x480 with 1 Axes>"
      ]
     },
     "metadata": {},
     "output_type": "display_data"
    }
   ],
   "source": [
    "plt.plot(counts)"
   ]
  },
  {
   "cell_type": "markdown",
   "metadata": {},
   "source": []
  },
  {
   "cell_type": "code",
   "execution_count": 38,
   "metadata": {},
   "outputs": [
    {
     "data": {
      "text/plain": [
       "array([False, False, False, False, False, False])"
      ]
     },
     "execution_count": 38,
     "metadata": {},
     "output_type": "execute_result"
    }
   ],
   "source": [
    "scores[0] >.8"
   ]
  },
  {
   "cell_type": "code",
   "execution_count": null,
   "metadata": {},
   "outputs": [],
   "source": []
  }
 ],
 "metadata": {
  "kernelspec": {
   "display_name": "orthocounting",
   "language": "python",
   "name": "python3"
  },
  "language_info": {
   "codemirror_mode": {
    "name": "ipython",
    "version": 3
   },
   "file_extension": ".py",
   "mimetype": "text/x-python",
   "name": "python",
   "nbconvert_exporter": "python",
   "pygments_lexer": "ipython3",
   "version": "3.10.12"
  }
 },
 "nbformat": 4,
 "nbformat_minor": 2
}
